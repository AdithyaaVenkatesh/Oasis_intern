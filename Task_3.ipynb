{
  "nbformat": 4,
  "nbformat_minor": 0,
  "metadata": {
    "colab": {
      "provenance": [],
      "authorship_tag": "ABX9TyP1WGBMkmNdSlc9Dmo0l5HK",
      "include_colab_link": true
    },
    "kernelspec": {
      "name": "python3",
      "display_name": "Python 3"
    },
    "language_info": {
      "name": "python"
    }
  },
  "cells": [
    {
      "cell_type": "markdown",
      "metadata": {
        "id": "view-in-github",
        "colab_type": "text"
      },
      "source": [
        "<a href=\"https://colab.research.google.com/github/AdithyaaVenkatesh/Oasis_intern/blob/main/Task_3.ipynb\" target=\"_parent\"><img src=\"https://colab.research.google.com/assets/colab-badge.svg\" alt=\"Open In Colab\"/></a>"
      ]
    },
    {
      "cell_type": "markdown",
      "source": [
        "# **PROJECT 3 - LEVEL 1**\n",
        "\n",
        "---\n",
        "\n",
        "# **Cleaning Data**"
      ],
      "metadata": {
        "id": "JTKwoZM9j25Y"
      }
    },
    {
      "cell_type": "markdown",
      "source": [
        "## 1) Data collection and Integrity"
      ],
      "metadata": {
        "id": "QRuxg3f0kOCR"
      }
    },
    {
      "cell_type": "code",
      "execution_count": null,
      "metadata": {
        "id": "nsXK-iCGxyul"
      },
      "outputs": [],
      "source": [
        "import pandas as pd\n",
        "import numpy as np\n",
        "from scipy import stats  # Ensure this import is included\n",
        "\n",
        "df = pd.read_csv(\"/content/AB_NYC_2019.csv\")\n"
      ]
    },
    {
      "cell_type": "markdown",
      "source": [
        "## 2) Missing Data Handling"
      ],
      "metadata": {
        "id": "PzBwO92lkZyW"
      }
    },
    {
      "cell_type": "code",
      "source": [
        "print(df.isnull().sum())"
      ],
      "metadata": {
        "colab": {
          "base_uri": "https://localhost:8080/"
        },
        "id": "wNv6NR8c0zYu",
        "outputId": "1201a22e-0333-4cde-e7b2-3d016650dc3b"
      },
      "execution_count": null,
      "outputs": [
        {
          "output_type": "stream",
          "name": "stdout",
          "text": [
            "id                                    0\n",
            "name                                 16\n",
            "host_id                               0\n",
            "host_name                            21\n",
            "neighbourhood_group                   0\n",
            "neighbourhood                         0\n",
            "latitude                              0\n",
            "longitude                             0\n",
            "room_type                             0\n",
            "price                                 0\n",
            "minimum_nights                        0\n",
            "number_of_reviews                     0\n",
            "last_review                       10052\n",
            "reviews_per_month                 10052\n",
            "calculated_host_listings_count        0\n",
            "availability_365                      0\n",
            "dtype: int64\n"
          ]
        }
      ]
    },
    {
      "cell_type": "code",
      "source": [
        "df['last_review'].fillna(\"2019-07-08\", inplace=True)\n",
        "df['host_name'].fillna(\"Unknown\", inplace=True)\n",
        "df.fillna({'name': 'Unknown', 'neighbourhood_group': 'Unknown'}, inplace=True)\n",
        "df['reviews_per_month'].fillna(0, inplace=True)\n",
        "print(df.isnull().sum())"
      ],
      "metadata": {
        "id": "NcMCxwTX0mGV",
        "colab": {
          "base_uri": "https://localhost:8080/"
        },
        "outputId": "1309d8b9-fabe-468d-8bbb-540087939fb2"
      },
      "execution_count": null,
      "outputs": [
        {
          "output_type": "stream",
          "name": "stdout",
          "text": [
            "id                                0\n",
            "name                              0\n",
            "host_id                           0\n",
            "host_name                         0\n",
            "neighbourhood_group               0\n",
            "neighbourhood                     0\n",
            "latitude                          0\n",
            "longitude                         0\n",
            "room_type                         0\n",
            "price                             0\n",
            "minimum_nights                    0\n",
            "number_of_reviews                 0\n",
            "last_review                       0\n",
            "reviews_per_month                 0\n",
            "calculated_host_listings_count    0\n",
            "availability_365                  0\n",
            "dtype: int64\n"
          ]
        },
        {
          "output_type": "stream",
          "name": "stderr",
          "text": [
            "<ipython-input-39-8c638653cb20>:1: FutureWarning: A value is trying to be set on a copy of a DataFrame or Series through chained assignment using an inplace method.\n",
            "The behavior will change in pandas 3.0. This inplace method will never work because the intermediate object on which we are setting values always behaves as a copy.\n",
            "\n",
            "For example, when doing 'df[col].method(value, inplace=True)', try using 'df.method({col: value}, inplace=True)' or df[col] = df[col].method(value) instead, to perform the operation inplace on the original object.\n",
            "\n",
            "\n",
            "  df['last_review'].fillna(\"2019-07-08\", inplace=True)\n",
            "<ipython-input-39-8c638653cb20>:2: FutureWarning: A value is trying to be set on a copy of a DataFrame or Series through chained assignment using an inplace method.\n",
            "The behavior will change in pandas 3.0. This inplace method will never work because the intermediate object on which we are setting values always behaves as a copy.\n",
            "\n",
            "For example, when doing 'df[col].method(value, inplace=True)', try using 'df.method({col: value}, inplace=True)' or df[col] = df[col].method(value) instead, to perform the operation inplace on the original object.\n",
            "\n",
            "\n",
            "  df['host_name'].fillna(\"Unknown\", inplace=True)\n",
            "<ipython-input-39-8c638653cb20>:4: FutureWarning: A value is trying to be set on a copy of a DataFrame or Series through chained assignment using an inplace method.\n",
            "The behavior will change in pandas 3.0. This inplace method will never work because the intermediate object on which we are setting values always behaves as a copy.\n",
            "\n",
            "For example, when doing 'df[col].method(value, inplace=True)', try using 'df.method({col: value}, inplace=True)' or df[col] = df[col].method(value) instead, to perform the operation inplace on the original object.\n",
            "\n",
            "\n",
            "  df['reviews_per_month'].fillna(0, inplace=True)\n"
          ]
        }
      ]
    },
    {
      "cell_type": "markdown",
      "source": [
        "## 3) Duplicate Removal"
      ],
      "metadata": {
        "id": "qXEmXO0ekjOi"
      }
    },
    {
      "cell_type": "code",
      "source": [
        "print(\"duplicate rows:\")\n",
        "print(df.duplicated().sum())"
      ],
      "metadata": {
        "colab": {
          "base_uri": "https://localhost:8080/"
        },
        "id": "__qNH82A8mHq",
        "outputId": "d116480c-444b-4773-d752-34c00866de3f"
      },
      "execution_count": null,
      "outputs": [
        {
          "output_type": "stream",
          "name": "stdout",
          "text": [
            "duplicate rows:\n",
            "0\n"
          ]
        }
      ]
    },
    {
      "cell_type": "markdown",
      "source": [
        "## 4) Standardization"
      ],
      "metadata": {
        "id": "zoQZL1tpkvtu"
      }
    },
    {
      "cell_type": "code",
      "source": [
        "data = df.columns.str.lower().str.strip().str.replace(\" \", \"_\")\n",
        "print(data)"
      ],
      "metadata": {
        "colab": {
          "base_uri": "https://localhost:8080/"
        },
        "id": "7m_t05_Z81Aw",
        "outputId": "d13dd7d8-a9b1-4d8d-8965-40481fbf555e"
      },
      "execution_count": null,
      "outputs": [
        {
          "output_type": "stream",
          "name": "stdout",
          "text": [
            "Index(['id', 'name', 'host_id', 'host_name', 'neighbourhood_group',\n",
            "       'neighbourhood', 'latitude', 'longitude', 'room_type', 'price',\n",
            "       'minimum_nights', 'number_of_reviews', 'last_review',\n",
            "       'reviews_per_month', 'calculated_host_listings_count',\n",
            "       'availability_365'],\n",
            "      dtype='object')\n"
          ]
        }
      ]
    },
    {
      "cell_type": "code",
      "source": [],
      "metadata": {
        "id": "S0lfyw9zkyMn"
      },
      "execution_count": null,
      "outputs": []
    },
    {
      "cell_type": "code",
      "source": [
        "df['host_name'] = df['host_name'].str.strip().str.lower()\n",
        "df['name'] = df['name'].str.title()  # Capitalize first letter of each word\n",
        "print(df[['host_name', 'name']])\n"
      ],
      "metadata": {
        "colab": {
          "base_uri": "https://localhost:8080/"
        },
        "id": "WRCJJXaI9apY",
        "outputId": "2f3ea8c5-2779-4e30-c48d-e52fa5461be0"
      },
      "execution_count": null,
      "outputs": [
        {
          "output_type": "stream",
          "name": "stdout",
          "text": [
            "           host_name                                               name\n",
            "0               john                 Clean & Quiet Apt Home By The Park\n",
            "1           jennifer                              Skylit Midtown Castle\n",
            "2          elisabeth                The Village Of Harlem....New York !\n",
            "3        lisaroxanne                    Cozy Entire Floor Of Brownstone\n",
            "4              laura   Entire Apt: Spacious Studio/Loft By Central Park\n",
            "...              ...                                                ...\n",
            "48890        sabrina    Charming One Bedroom - Newly Renovated Rowhouse\n",
            "48891        marisol      Affordable Room In Bushwick/East Williamsburg\n",
            "48892  ilgar & aysel            Sunny Studio At Historical Neighborhood\n",
            "48893            taz               43Rd St. Time Square-Cozy Single Bed\n",
            "48894     christophe  Trendy Duplex In The Very Heart Of Hell'S Kitchen\n",
            "\n",
            "[48895 rows x 2 columns]\n"
          ]
        }
      ]
    },
    {
      "cell_type": "markdown",
      "source": [
        "## 5) Outlier Detection"
      ],
      "metadata": {
        "id": "3aOUOr58k1g0"
      }
    },
    {
      "cell_type": "code",
      "source": [
        "def detect_outliers_iqr(df, column):\n",
        "    Q1 = df[column].quantile(0.25)  # 25th percentile\n",
        "    Q3 = df[column].quantile(0.75)  # 75th percentile\n",
        "    IQR = Q3 - Q1  # Interquartile range\n",
        "    lower_bound = Q1 - 1.5 * IQR\n",
        "    upper_bound = Q3 + 1.5 * IQR\n",
        "    outliers = df[(df[column] < lower_bound) | (df[column] > upper_bound)]\n",
        "    return outliers\n",
        "\n",
        "# Detect outliers for key columns\n",
        "outliers_price = detect_outliers_iqr(df, 'price')\n",
        "outliers_min_nights = detect_outliers_iqr(df, 'minimum_nights')\n",
        "outliers_reviews = detect_outliers_iqr(df, 'reviews_per_month')\n",
        "outliers_availability = detect_outliers_iqr(df, 'availability_365')\n",
        "\n",
        "print(\"Outliers in price column:\\n\", outliers_price)\n",
        "print(\"Outliers in minimum_nights column:\\n\", outliers_min_nights)\n",
        "print(\"Outliers in reviews_per_month column:\\n\", outliers_reviews)\n",
        "print(\"Outliers in availability_365 column:\\n\", outliers_availability)\n",
        "\n",
        "\n"
      ],
      "metadata": {
        "colab": {
          "base_uri": "https://localhost:8080/"
        },
        "id": "fzgLXQZE96br",
        "outputId": "26d8e2d4-ae94-4f9f-fd7b-fd8863d67e91"
      },
      "execution_count": null,
      "outputs": [
        {
          "output_type": "stream",
          "name": "stdout",
          "text": [
            "Outliers in price column:\n",
            "              id                                               name    host_id  \\\n",
            "61        15396                 Sunny & Spacious Chelsea Apartment      60278   \n",
            "85        19601                Perfect For A Family Or Small Group      74303   \n",
            "103       23686  2000 Sf 3Br 2Bath West Village Private  Townhouse      93790   \n",
            "114       26933  2 Br / 2 Bath Duplex Apt With Patio! East Village      72062   \n",
            "121       27659                   3 Story Town House In Park Slope     119588   \n",
            "...         ...                                                ...        ...   \n",
            "48758  36420289    Rustic Garden House Apt, 2 Stops From Manhattan   73211393   \n",
            "48833  36450896   Brand New 3-Bed Apt In The Best Location Of Fidi   29741813   \n",
            "48839  36452721  Massage Spa. Stay Overnight. Authors Artist Dr...  274079964   \n",
            "48842  36453160  Luxury Manhattan Penthouse+Hudson River+Empire...  224171371   \n",
            "48856  36457700  Large 3 Bed, 2 Bath , Garden , Bbq , All You Need   66993395   \n",
            "\n",
            "                     host_name neighbourhood_group       neighbourhood  \\\n",
            "61                       petra           Manhattan             Chelsea   \n",
            "85                      maggie            Brooklyn    Brooklyn Heights   \n",
            "103                        ann           Manhattan        West Village   \n",
            "114                      bruce           Manhattan        East Village   \n",
            "121                       vero            Brooklyn         South Slope   \n",
            "...                        ...                 ...                 ...   \n",
            "48758                lagabrell              Queens    Long Island City   \n",
            "48833                      yue           Manhattan  Financial District   \n",
            "48839                  richard            Brooklyn      Sheepshead Bay   \n",
            "48842  luxuryapartmentsbyamber           Manhattan             Chelsea   \n",
            "48856                   thomas            Brooklyn  Bedford-Stuyvesant   \n",
            "\n",
            "       latitude  longitude        room_type  price  minimum_nights  \\\n",
            "61     40.74623  -73.99530  Entire home/apt    375             180   \n",
            "85     40.69723  -73.99268  Entire home/apt    800               1   \n",
            "103    40.73096  -74.00319  Entire home/apt    500               4   \n",
            "114    40.72540  -73.98157  Entire home/apt    350               2   \n",
            "121    40.66499  -73.97925  Entire home/apt    400               2   \n",
            "...         ...        ...              ...    ...             ...   \n",
            "48758  40.75508  -73.93258  Entire home/apt    350               2   \n",
            "48833  40.70605  -74.01042  Entire home/apt    475               2   \n",
            "48839  40.59866  -73.95661     Private room    800               1   \n",
            "48842  40.75204  -74.00292  Entire home/apt    350               1   \n",
            "48856  40.68886  -73.92879  Entire home/apt    345               4   \n",
            "\n",
            "       number_of_reviews last_review  reviews_per_month  \\\n",
            "61                     5  2018-11-03               0.12   \n",
            "85                    25  2016-08-04               0.24   \n",
            "103                   46  2019-05-18               0.55   \n",
            "114                    7  2017-08-09               0.06   \n",
            "121                   16  2018-12-30               0.24   \n",
            "...                  ...         ...                ...   \n",
            "48758                  0  2019-07-08               0.00   \n",
            "48833                  0  2019-07-08               0.00   \n",
            "48839                  0  2019-07-08               0.00   \n",
            "48842                  0  2019-07-08               0.00   \n",
            "48856                  0  2019-07-08               0.00   \n",
            "\n",
            "       calculated_host_listings_count  availability_365  \n",
            "61                                  1               180  \n",
            "85                                  1                 7  \n",
            "103                                 2               243  \n",
            "114                                 4               298  \n",
            "121                                 2               216  \n",
            "...                               ...               ...  \n",
            "48758                               1               364  \n",
            "48833                               1                64  \n",
            "48839                               1                23  \n",
            "48842                               1                 9  \n",
            "48856                               3               354  \n",
            "\n",
            "[2972 rows x 16 columns]\n",
            "Outliers in minimum_nights column:\n",
            "              id                                               name    host_id  \\\n",
            "6          5121                                    Blissartsspace!       7356   \n",
            "14         6090                      West Village Nest - Superhost      11975   \n",
            "29         9657                   Modern 1 Br / Nyc / East Village      21904   \n",
            "36        11452                        Clean And Quiet In Brooklyn       7355   \n",
            "45        12627  Entire Apartment In Central Brooklyn Neighborh...      49670   \n",
            "...         ...                                                ...        ...   \n",
            "48810  36445121                 Uws Spacious Master Bedroom Sublet  274014453   \n",
            "48843  36453642     ☆  Huge, Sunlit Room - 3 Min Walk From Train !   53966115   \n",
            "48871  36475746      A Large Room - 1 Month Minimum - Washer&Dryer  144008701   \n",
            "48879  36480292  Gorgeous 1.5 Bdr With A Private Yard- Williams...     540335   \n",
            "48882  36482231                          Bushwick _ Myrtle-Wyckoff   66058896   \n",
            "\n",
            "       host_name neighbourhood_group              neighbourhood  latitude  \\\n",
            "6          garon            Brooklyn         Bedford-Stuyvesant  40.68688   \n",
            "14         alina           Manhattan               West Village  40.73530   \n",
            "29          dana           Manhattan               East Village  40.72920   \n",
            "36            vt            Brooklyn         Bedford-Stuyvesant  40.68876   \n",
            "45          rana            Brooklyn  Prospect-Lefferts Gardens  40.65944   \n",
            "...          ...                 ...                        ...       ...   \n",
            "48810    dagmara           Manhattan            Upper West Side  40.79952   \n",
            "48843       nora            Brooklyn         Bedford-Stuyvesant  40.69635   \n",
            "48871  ozzy ciao           Manhattan                     Harlem  40.82233   \n",
            "48879        lee            Brooklyn               Williamsburg  40.71728   \n",
            "48882      luisa            Brooklyn                   Bushwick  40.69652   \n",
            "\n",
            "       longitude        room_type  price  minimum_nights  number_of_reviews  \\\n",
            "6      -73.95596     Private room     60              45                 49   \n",
            "14     -74.00525  Entire home/apt    120              90                 27   \n",
            "29     -73.98542  Entire home/apt    180              14                 29   \n",
            "36     -73.94312     Private room     35              60                  0   \n",
            "45     -73.96238  Entire home/apt    150              29                 11   \n",
            "...          ...              ...    ...             ...                ...   \n",
            "48810  -73.96003     Private room     75              30                  0   \n",
            "48843  -73.93743     Private room     45              29                  0   \n",
            "48871  -73.94687     Private room     35              29                  0   \n",
            "48879  -73.94394  Entire home/apt    120              20                  0   \n",
            "48882  -73.91079     Private room     40              20                  0   \n",
            "\n",
            "      last_review  reviews_per_month  calculated_host_listings_count  \\\n",
            "6      2017-10-05               0.40                               1   \n",
            "14     2018-10-31               0.22                               1   \n",
            "29     2019-04-19               0.24                               1   \n",
            "36     2019-07-08               0.00                               1   \n",
            "45     2019-06-05               0.49                               1   \n",
            "...           ...                ...                             ...   \n",
            "48810  2019-07-08               0.00                               1   \n",
            "48843  2019-07-08               0.00                               2   \n",
            "48871  2019-07-08               0.00                               2   \n",
            "48879  2019-07-08               0.00                               1   \n",
            "48882  2019-07-08               0.00                               1   \n",
            "\n",
            "       availability_365  \n",
            "6                     0  \n",
            "14                    0  \n",
            "29                   67  \n",
            "36                  365  \n",
            "45                   95  \n",
            "...                 ...  \n",
            "48810                90  \n",
            "48843               341  \n",
            "48871                31  \n",
            "48879                22  \n",
            "48882                31  \n",
            "\n",
            "[6607 rows x 16 columns]\n",
            "Outliers in reviews_per_month column:\n",
            "              id                                             name    host_id  \\\n",
            "3          3831                  Cozy Entire Floor Of Brownstone       4869   \n",
            "18         7726  Hip Historic Brownstone Apartment With Backyard      20950   \n",
            "67        16580              Sunny, Modern Room In East Village!      64442   \n",
            "113       26785                     Park Slope Green Guest House      42273   \n",
            "225       58059              Private Room On Historic Sugar Hill     277379   \n",
            "...         ...                                              ...        ...   \n",
            "47848  35945256                    Penn House~~~~5 Mins From Jfk  269113892   \n",
            "47967  36004542           Cosy Bedroom In The Heart Of Manhattan   30461045   \n",
            "48031  36041065      Large Bedroom With Private Bathroom Is Suit  225118276   \n",
            "48228  36145317                  1910 Original Rockaway Bungalow   63389796   \n",
            "48252  36152878                   Cozy Apartment In Midtown West  271928929   \n",
            "\n",
            "              host_name neighbourhood_group       neighbourhood  latitude  \\\n",
            "3           lisaroxanne            Brooklyn        Clinton Hill  40.68514   \n",
            "18     adam and charity            Brooklyn       Crown Heights  40.67592   \n",
            "67                 reka           Manhattan        East Village  40.72649   \n",
            "113                dani            Brooklyn         South Slope  40.66853   \n",
            "225               agnes           Manhattan              Harlem  40.82510   \n",
            "...                 ...                 ...                 ...       ...   \n",
            "47848              penn              Queens             Jamaica  40.68248   \n",
            "47967            dayana           Manhattan             Midtown  40.76384   \n",
            "48031     alex and mila            Brooklyn  Bedford-Stuyvesant  40.68380   \n",
            "48228             diana              Queens      Rockaway Beach  40.58947   \n",
            "48252              asil           Manhattan      Hell's Kitchen  40.75402   \n",
            "\n",
            "       longitude        room_type  price  minimum_nights  number_of_reviews  \\\n",
            "3      -73.95976  Entire home/apt     89               1                270   \n",
            "18     -73.94694  Entire home/apt     99               3                 53   \n",
            "67     -73.97904     Private room     80               1                338   \n",
            "113    -73.98912  Entire home/apt    120              30                467   \n",
            "225    -73.94287     Private room     60               1                458   \n",
            "...          ...              ...    ...             ...                ...   \n",
            "47848  -73.79417  Entire home/apt    128               1                  5   \n",
            "47967  -73.98248     Private room    125               1                  6   \n",
            "48031  -73.92854     Private room     75               1                  7   \n",
            "48228  -73.81435  Entire home/apt    150               1                  5   \n",
            "48252  -73.99318  Entire home/apt     75               1                  4   \n",
            "\n",
            "      last_review  reviews_per_month  calculated_host_listings_count  \\\n",
            "3      2019-07-05               4.64                               1   \n",
            "18     2019-06-22               4.44                               1   \n",
            "67     2019-07-01               4.72                               2   \n",
            "113    2018-12-30               4.22                               2   \n",
            "225    2019-07-03               4.58                               2   \n",
            "...           ...                ...                             ...   \n",
            "47848  2019-07-01               5.00                               1   \n",
            "47967  2019-07-01               6.00                               1   \n",
            "48031  2019-07-06               7.00                               1   \n",
            "48228  2019-07-07               5.00                               1   \n",
            "48252  2019-07-05               4.00                               1   \n",
            "\n",
            "       availability_365  \n",
            "3                   194  \n",
            "18                   21  \n",
            "67                   72  \n",
            "113                 192  \n",
            "225                 258  \n",
            "...                 ...  \n",
            "47848               176  \n",
            "47967               142  \n",
            "48031               326  \n",
            "48228                79  \n",
            "48252                98  \n",
            "\n",
            "[3312 rows x 16 columns]\n",
            "Outliers in availability_365 column:\n",
            " Empty DataFrame\n",
            "Columns: [id, name, host_id, host_name, neighbourhood_group, neighbourhood, latitude, longitude, room_type, price, minimum_nights, number_of_reviews, last_review, reviews_per_month, calculated_host_listings_count, availability_365]\n",
            "Index: []\n"
          ]
        }
      ]
    },
    {
      "cell_type": "code",
      "source": [
        "def remove_outliers(df, column):\n",
        "    Q1 = df[column].quantile(0.25)\n",
        "    Q3 = df[column].quantile(0.75)\n",
        "    IQR = Q3 - Q1\n",
        "    lower_bound = Q1 - 1.5 * IQR\n",
        "    upper_bound = Q3 + 1.5 * IQR\n",
        "    return df[(df[column] >= lower_bound) & (df[column] <= upper_bound)]\n",
        "\n",
        "# Remove outliers for the columns\n",
        "df_cleaned = remove_outliers(df, 'price')\n",
        "df_cleaned = remove_outliers(df_cleaned, 'minimum_nights')\n",
        "df_cleaned = remove_outliers(df_cleaned, 'reviews_per_month')\n",
        "df_cleaned = remove_outliers(df_cleaned, 'availability_365')\n",
        "\n"
      ],
      "metadata": {
        "id": "YVlq8yTR-YZH"
      },
      "execution_count": null,
      "outputs": []
    },
    {
      "cell_type": "code",
      "source": [
        "\n",
        "df_cleaned['z_score_price'] = np.abs(stats.zscore(df_cleaned['price']))\n",
        "df_cleaned['z_score_min_nights'] = np.abs(stats.zscore(df_cleaned['minimum_nights']))\n",
        "df_cleaned['z_score_reviews'] = np.abs(stats.zscore(df_cleaned['reviews_per_month']))\n",
        "df_cleaned['z_score_availability'] = np.abs(stats.zscore(df_cleaned['availability_365']))\n",
        "\n",
        "outliers_z = df_cleaned[df_cleaned[['z_score_price', 'z_score_min_nights', 'z_score_reviews', 'z_score_availability']].gt(3).any(axis=1)]\n",
        "print(\"\\nOutliers detected using Z-score:\\n\", outliers_z)\n",
        "\n"
      ],
      "metadata": {
        "colab": {
          "base_uri": "https://localhost:8080/"
        },
        "id": "Ny4ILWYt_ajc",
        "outputId": "151d2a13-b8fc-43fc-b54b-ae6b5b4f8d49"
      },
      "execution_count": null,
      "outputs": [
        {
          "output_type": "stream",
          "name": "stdout",
          "text": [
            "\n",
            "Outliers detected using Z-score:\n",
            "              id                                               name    host_id  \\\n",
            "4          5022   Entire Apt: Spacious Studio/Loft By Central Park       7192   \n",
            "27         9357                               Midtown Pied-A-Terre      30193   \n",
            "71        17037                            Lovely Ev Artist'S Home      66035   \n",
            "116       26969                2 Story Family Home In Williamsburg     115307   \n",
            "225       58059                Private Room On Historic Sugar Hill     277379   \n",
            "...         ...                                                ...        ...   \n",
            "48664  36373544   Large Studio With Tall Ceiling Near Central Park   35141789   \n",
            "48665  36374141    Sunny Bedroom With Renovated Rooftop + Balcony!   37872024   \n",
            "48700  36389944                Family Friendly Apt In Midtown East  224309949   \n",
            "48794  36428255  Skyscraper Ultimate Luxury At The Heart Of Bklyn.  148289089   \n",
            "48892  36485431            Sunny Studio At Historical Neighborhood   23492952   \n",
            "\n",
            "           host_name neighbourhood_group    neighbourhood  latitude  \\\n",
            "4              laura           Manhattan      East Harlem  40.79851   \n",
            "27             tommi           Manhattan   Hell's Kitchen  40.76715   \n",
            "71              anna           Manhattan     East Village  40.72162   \n",
            "116        alexandra            Brooklyn     Williamsburg  40.71942   \n",
            "225            agnes           Manhattan           Harlem  40.82510   \n",
            "...              ...                 ...              ...       ...   \n",
            "48664          janey           Manhattan  Upper East Side  40.78332   \n",
            "48665          jeano            Brooklyn    Crown Heights  40.67011   \n",
            "48700          efrat           Manhattan          Midtown  40.75988   \n",
            "48794          elmar            Brooklyn      Boerum Hill  40.68780   \n",
            "48892  ilgar & aysel           Manhattan           Harlem  40.81475   \n",
            "\n",
            "       longitude        room_type  price  minimum_nights  number_of_reviews  \\\n",
            "4      -73.94399  Entire home/apt     80              10                  9   \n",
            "27     -73.98533  Entire home/apt    150              10                 58   \n",
            "71     -73.98008  Entire home/apt    230               9                 49   \n",
            "116    -73.95748  Entire home/apt    325               3                324   \n",
            "225    -73.94287     Private room     60               1                458   \n",
            "...          ...              ...    ...             ...                ...   \n",
            "48664  -73.95155  Entire home/apt    100              10                  0   \n",
            "48665  -73.92430     Private room     30              10                  0   \n",
            "48700  -73.96591  Entire home/apt    325               5                  0   \n",
            "48794  -73.98145  Entire home/apt    235              10                  0   \n",
            "48892  -73.94867  Entire home/apt    115              10                  0   \n",
            "\n",
            "      last_review  reviews_per_month  calculated_host_listings_count  \\\n",
            "4      2018-11-19               0.10                               1   \n",
            "27     2017-08-13               0.49                               1   \n",
            "71     2018-05-14               0.43                               1   \n",
            "116    2019-06-23               3.01                               1   \n",
            "225    2019-07-03               4.58                               2   \n",
            "...           ...                ...                             ...   \n",
            "48664  2019-07-08               0.00                               1   \n",
            "48665  2019-07-08               0.00                               1   \n",
            "48700  2019-07-08               0.00                               1   \n",
            "48794  2019-07-08               0.00                               1   \n",
            "48892  2019-07-08               0.00                               1   \n",
            "\n",
            "       availability_365  z_score_price  z_score_min_nights  z_score_reviews  \\\n",
            "4                     0       0.588653            3.852261         0.744655   \n",
            "27                   75       0.450843            3.852261         0.413614   \n",
            "71                  116       1.638839            3.320158         0.464544   \n",
            "116                 107       3.049584            0.127535         1.725415   \n",
            "225                 258       0.885652            0.936673         3.058065   \n",
            "...                 ...            ...                 ...              ...   \n",
            "48664                21       0.291654            3.852261         0.829537   \n",
            "48665                32       1.331150            3.852261         0.829537   \n",
            "48700               298       3.049584            1.191742         0.829537   \n",
            "48794                64       1.713089            3.852261         0.829537   \n",
            "48892                27       0.068905            3.852261         0.829537   \n",
            "\n",
            "       z_score_availability  \n",
            "4                  0.763189  \n",
            "27                 0.161046  \n",
            "71                 0.168126  \n",
            "116                0.095869  \n",
            "225                1.308184  \n",
            "...                     ...  \n",
            "48664              0.594589  \n",
            "48665              0.506274  \n",
            "48700              1.629327  \n",
            "48794              0.249360  \n",
            "48892              0.546417  \n",
            "\n",
            "[851 rows x 20 columns]\n"
          ]
        }
      ]
    },
    {
      "cell_type": "markdown",
      "source": [
        "## 6) save cleaned data"
      ],
      "metadata": {
        "id": "YINe1Tx2lEUN"
      }
    },
    {
      "cell_type": "code",
      "source": [
        "df_cleaned.to_csv(\"/content/AB_NYC_2019_cleaned.csv\", index=False)\n",
        "\n",
        "print(\"\\nOutlier handling completed successfully! The cleaned data is saved.\")"
      ],
      "metadata": {
        "colab": {
          "base_uri": "https://localhost:8080/"
        },
        "id": "Ur-SHGD0_6TQ",
        "outputId": "e372397f-8eeb-4439-a8b6-3c05e1cd8986"
      },
      "execution_count": null,
      "outputs": [
        {
          "output_type": "stream",
          "name": "stdout",
          "text": [
            "\n",
            "Outlier handling completed successfully! The cleaned data is saved.\n"
          ]
        }
      ]
    }
  ]
}